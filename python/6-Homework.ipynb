{
 "cells": [
  {
   "cell_type": "code",
   "execution_count": null,
   "metadata": {},
   "outputs": [],
   "source": [
    "age = 20\n",
    "\n",
    "if age >= 25:\n",
    "    print(\"Renting a car is more affordable\")\n",
    "if age < 25:\n",
    "    print(\"Renting a car is very expensive.\")\n",
    "\n",
    "\n"
   ]
  },
  {
   "cell_type": "code",
   "execution_count": 19,
   "metadata": {},
   "outputs": [
    {
     "name": "stdout",
     "output_type": "stream",
     "text": [
      "You cannot legally rent a car\n"
     ]
    }
   ],
   "source": [
    "#2\n",
    "age = int(input(\"What is your age\"))\n",
    "\n",
    "if age >= 25:\n",
    "    print(\"Renting a car is more affordable.\")\n",
    "if age > 25 or age >= 18: \n",
    "    print(\"Renting a car is very expensive.\")\n",
    "else:\n",
    "    #age < 18:\n",
    "    print(\"You cannot legally rent a car\")"
   ]
  },
  {
   "cell_type": "code",
   "execution_count": 6,
   "metadata": {},
   "outputs": [
    {
     "name": "stdout",
     "output_type": "stream",
     "text": [
      "Number of characters:\n",
      "43\n",
      "e\n",
      "u\n",
      "i\n",
      "o\n",
      "o\n",
      "u\n",
      "o\n",
      "e\n",
      "e\n",
      "a\n",
      "o\n"
     ]
    }
   ],
   "source": [
    "string = \"The quick brown fox jumps over the lazy dog\"\n",
    "vowels = \"aeiouAEIOU\"\n",
    "print(\"Number of characters:\")\n",
    "print(len(string))\n",
    "for letters in string:\n",
    "   if letters in vowels:\n",
    "        print(letters)\n",
    "   \n",
    "   \n",
    "\n"
   ]
  },
  {
   "cell_type": "code",
   "execution_count": 7,
   "metadata": {},
   "outputs": [
    {
     "name": "stdout",
     "output_type": "stream",
     "text": [
      "trousers auburn\n",
      "trousers aqua\n",
      "trousers burnt sienna\n",
      "trousers fuchsia\n",
      "trousers cerise\n",
      "trousers Dark Sapphire\n",
      "trousers gunmetal blue\n",
      "trousers maple\n",
      "blouse auburn\n",
      "blouse aqua\n",
      "blouse burnt sienna\n",
      "blouse fuchsia\n",
      "blouse cerise\n",
      "blouse Dark Sapphire\n",
      "blouse gunmetal blue\n",
      "blouse maple\n",
      "bandana auburn\n",
      "bandana aqua\n",
      "bandana burnt sienna\n",
      "bandana fuchsia\n",
      "bandana cerise\n",
      "bandana Dark Sapphire\n",
      "bandana gunmetal blue\n",
      "bandana maple\n",
      "cumber band auburn\n",
      "cumber band aqua\n",
      "cumber band burnt sienna\n",
      "cumber band fuchsia\n",
      "cumber band cerise\n",
      "cumber band Dark Sapphire\n",
      "cumber band gunmetal blue\n",
      "cumber band maple\n",
      "blazer auburn\n",
      "blazer aqua\n",
      "blazer burnt sienna\n",
      "blazer fuchsia\n",
      "blazer cerise\n",
      "blazer Dark Sapphire\n",
      "blazer gunmetal blue\n",
      "blazer maple\n",
      "vest auburn\n",
      "vest aqua\n",
      "vest burnt sienna\n",
      "vest fuchsia\n",
      "vest cerise\n",
      "vest Dark Sapphire\n",
      "vest gunmetal blue\n",
      "vest maple\n",
      "french beret auburn\n",
      "french beret aqua\n",
      "french beret burnt sienna\n",
      "french beret fuchsia\n",
      "french beret cerise\n",
      "french beret Dark Sapphire\n",
      "french beret gunmetal blue\n",
      "french beret maple\n",
      "scarf auburn\n",
      "scarf aqua\n",
      "scarf burnt sienna\n",
      "scarf fuchsia\n",
      "scarf cerise\n",
      "scarf Dark Sapphire\n",
      "scarf gunmetal blue\n",
      "scarf maple\n",
      "stole auburn\n",
      "stole aqua\n",
      "stole burnt sienna\n",
      "stole fuchsia\n",
      "stole cerise\n",
      "stole Dark Sapphire\n",
      "stole gunmetal blue\n",
      "stole maple\n"
     ]
    }
   ],
   "source": [
    "couture = [\"trousers\", \"blouse\", \"bandana\", \"cumber band\", \"blazer\", \"vest\", \"french beret\", \"scarf\", \"stole\"] \n",
    "panettone = {\"cerise\", \"fuchsia\", \"aqua\", \"maple\", \"auburn\", \"burnt sienna\", \"gunmetal blue\", \"Dark Sapphire\"}\n",
    "\n",
    "for x in couture:\n",
    "    for y in panettone:\n",
    "        print(x, y)"
   ]
  },
  {
   "cell_type": "code",
   "execution_count": 9,
   "metadata": {},
   "outputs": [
    {
     "name": "stdout",
     "output_type": "stream",
     "text": [
      "5050\n"
     ]
    }
   ],
   "source": [
    "total = 0\n",
    "\n",
    "for x in range(1, 101):\n",
    "    total += x\n",
    "#On each iteration, we use the += operator to reassign the variable to its current value plus the current number.\n",
    "print(total)\n"
   ]
  },
  {
   "cell_type": "code",
   "execution_count": 22,
   "metadata": {},
   "outputs": [
    {
     "name": "stdout",
     "output_type": "stream",
     "text": [
      "banana\n",
      "['kiwi', 'banana', 'cherry']\n",
      "['apple', 'lemon', 'cherry']\n",
      "kiwi\n",
      "melon\n",
      "['cherry', 'orange', 'kiwi']\n",
      "7\n",
      "['mango', 'melon', 'kiwi', 'orange', 'cherry', 'banana', 'apple']\n"
     ]
    }
   ],
   "source": [
    "#6\n",
    "\n",
    "fruits = [\"apple\", \"banana\", \"cherry\"]\n",
    "print(fruits[1])\n",
    "\n",
    "#7\n",
    "\n",
    "fruits[0] = \"kiwi\"\n",
    "print(fruits)\n",
    "\n",
    "#8\n",
    "fruits = [\"apple\", \"banana\", \"cherry\"]\n",
    "fruits.append(\"orange\")\n",
    "\n",
    "#9\n",
    "fruits = [\"apple\", \"banana\", \"cherry\"]\n",
    "fruits.insert(2, \"lemon\")\n",
    "\n",
    "#10\n",
    "fruits.remove(\"banana\")\n",
    "print(fruits)\n",
    "\n",
    "#11\n",
    "fruits = [\"apple\", \"banana\", \"cherry\", \"orange\", \"kiwi\", \"melon\", \"mango\"]\n",
    "print(fruits[-3])\n",
    "print(fruits[-2])\n",
    "#12\n",
    "print(fruits[2:5])\n",
    "\n",
    "#13\n",
    "fruits = [\"apple\", \"banana\", \"cherry\", \"orange\", \"kiwi\", \"melon\", \"mango\"]\n",
    "print(len(fruits))\n",
    "\n",
    "#14\n",
    "fruits.reverse()\n",
    "print(fruits)"
   ]
  },
  {
   "cell_type": "code",
   "execution_count": 27,
   "metadata": {},
   "outputs": [
    {
     "name": "stdout",
     "output_type": "stream",
     "text": [
      "2022-11-20 10:45:49.464958\n",
      "Month ... November\n"
     ]
    }
   ],
   "source": [
    "#15\n",
    "\n",
    "import datetime\n",
    "\n",
    "today = datetime.datetime.now()\n",
    "\n",
    "print(today)\n",
    "print(\"Month ...\", today.strftime(\"%B\"))"
   ]
  },
  {
   "cell_type": "code",
   "execution_count": 33,
   "metadata": {},
   "outputs": [
    {
     "name": "stdout",
     "output_type": "stream",
     "text": [
      "Hello amanzi\n",
      " Happy Monday!\n",
      "Hello amanzi\n",
      " Happy Sunday!\n"
     ]
    }
   ],
   "source": [
    "name = input(\"What is your name?\")\n",
    "day = datetime.datetime.now()\n",
    "\n",
    "def firstdayname (name, day=\"Sunday\"):\n",
    "   #return print(\"Hello \" + name + \"\\n Happy \" + today.strftime(\"%A\") + \"!\")\n",
    "    return print(\"Hello \" + name + \"\\n Happy \" + day + \"!\")\n",
    "firstdayname(name, day = \"Monday\")\n",
    "firstdayname(name)"
   ]
  },
  {
   "cell_type": "code",
   "execution_count": 37,
   "metadata": {},
   "outputs": [
    {
     "name": "stdout",
     "output_type": "stream",
     "text": [
      "Array hwlin ... [ 0.  4.  8. 12. 16. 20.]\n",
      "[2 3 2]\n"
     ]
    }
   ],
   "source": [
    "#17-19\n",
    "\n",
    "import numpy as np\n",
    "import copy\n",
    "\n",
    "hw_array = np.array([2, 3, 2])\n",
    "\n",
    "hwlin = np.linspace(0, 20, num=6)\n",
    "print(\"Array hwlin ...\", hwlin)\n",
    "\n",
    "new_hw_array = copy.deepcopy(hw_array)\n",
    "print(new_hw_array)"
   ]
  },
  {
   "cell_type": "markdown",
   "metadata": {},
   "source": [
    "Two reasons we use NumPy arrays over Python lists are:\n",
    "\n",
    "Memory consumption of numPy arrays are smaller\n",
    "Numpy performs calculations faster"
   ]
  }
 ],
 "metadata": {
  "kernelspec": {
   "display_name": "Python 3.10.5 64-bit",
   "language": "python",
   "name": "python3"
  },
  "language_info": {
   "codemirror_mode": {
    "name": "ipython",
    "version": 3
   },
   "file_extension": ".py",
   "mimetype": "text/x-python",
   "name": "python",
   "nbconvert_exporter": "python",
   "pygments_lexer": "ipython3",
   "version": "3.10.5"
  },
  "orig_nbformat": 4,
  "vscode": {
   "interpreter": {
    "hash": "072753f373865d6b158186b1f0f724b867295c26eb910829b189e1358af2d495"
   }
  }
 },
 "nbformat": 4,
 "nbformat_minor": 2
}
