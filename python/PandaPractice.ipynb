{
 "cells": [
  {
   "cell_type": "code",
   "execution_count": 3,
   "id": "bbcee195",
   "metadata": {},
   "outputs": [
    {
     "name": "stdout",
     "output_type": "stream",
     "text": [
      "           Athletes Data 4 Athletes with 2 Sports        Athletes 2606  \\\n",
      "0                    NaN                      NaN             NaN  NaN   \n",
      "1                   Name                    Sport     Nationality  Age   \n",
      "2         ABBAS Muhammad            Alpine Skiing        Pakistan   23   \n",
      "3          ABBOTT Jeremy           Figure Skating   United States   24   \n",
      "4           ABLAEV Enver         Freestyle Skiing         Ukraine   30   \n",
      "...                  ...                      ...             ...  ...   \n",
      "2603         ZUEV Stepan            Alpine Skiing          Russia   21   \n",
      "2604   ZURBRIGGEN Silvan            Alpine Skiing     Switzerland   28   \n",
      "2605   ZUZULOVA Veronika            Alpine Skiing        Slovakia   25   \n",
      "2606  ZVARICOVA Veronika                 Biathlon  Czech Republic   21   \n",
      "2607  ZVEJNIEKS Kristaps            Alpine Skiing          Latvia   17   \n",
      "\n",
      "     Unnamed: 4 Unnamed: 5  \n",
      "0           NaN        NaN  \n",
      "1         Wt kg         Ht  \n",
      "2            55        168  \n",
      "3           NaN        175  \n",
      "4            68        169  \n",
      "...         ...        ...  \n",
      "2603         90        189  \n",
      "2604         94        185  \n",
      "2605         72        172  \n",
      "2606         62        176  \n",
      "2607         87        185  \n",
      "\n",
      "[2608 rows x 6 columns]\n"
     ]
    }
   ],
   "source": [
    "# import an excel sheet\n",
    "import pandas as pd\n",
    "\n",
    "athletes = pd.read_excel('./resources/sample_winterathletes.xlsx',\n",
    "                    sheet_name='Athletes')\n",
    "\n",
    "print(athletes)"
   ]
  },
  {
   "cell_type": "code",
   "execution_count": null,
   "id": "67072b2c",
   "metadata": {},
   "outputs": [],
   "source": []
  }
 ],
 "metadata": {
  "kernelspec": {
   "display_name": "Python 3 (ipykernel)",
   "language": "python",
   "name": "python3"
  },
  "language_info": {
   "codemirror_mode": {
    "name": "ipython",
    "version": 3
   },
   "file_extension": ".py",
   "mimetype": "text/x-python",
   "name": "python",
   "nbconvert_exporter": "python",
   "pygments_lexer": "ipython3",
   "version": "3.10.5"
  }
 },
 "nbformat": 4,
 "nbformat_minor": 5
}
