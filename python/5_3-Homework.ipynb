{
 "cells": [
  {
   "cell_type": "code",
   "execution_count": 5,
   "metadata": {},
   "outputs": [
    {
     "name": "stdout",
     "output_type": "stream",
     "text": [
      "6\n",
      "[False, False, True, True, True]\n",
      "This is the sum of the simlists: \n",
      "[False, False, True, True, True, False, False, True, True, True]\n"
     ]
    }
   ],
   "source": [
    "## 2. Create a list of at least 5 elements of mixed data types\n",
    "    #replace a part of it with something else\n",
    "    #append or insert several more items to the list\n",
    "    #find and print the length of the list\n",
    "    #slice a sub-section of the 1st list, and save it to a different 2nd list\n",
    "    #print the 2nd list\n",
    "    #extend your original list with the 2nd list sliced above\n",
    "    #Create a new list called \"simList\" containing at least 5 elements of the same data type, either string, integer, float, or Boolean.\n",
    "    #sort \"simList\", and print the list\n",
    "    #copy the \"simList\" list to another 3rd list\n",
    "    #add the 2nd and 3rd lists together into a 4th list\n",
    "list = [1, \"a\", True, [1, 2, 3], 1.5]\n",
    "\n",
    "list[1] = \"b\"\n",
    "list.append(\"Be like water my friend\")\n",
    "print(len(list))\n",
    "List2 = list[2:4]\n",
    "list.extend(List2)\n",
    "\n",
    "simList = [True, True, False, False, True]\n",
    "simList.sort()\n",
    "print(simList)\n",
    "\n",
    "simList_2 = simList.copy()   #copy the \"simList\" list to another 3rd list\n",
    "\n",
    "sumofsimlists = simList + simList_2\n",
    "\n",
    "print(\"This is the sum of the simlists: \")\n",
    "print(sumofsimlists)\n",
    "\n",
    "\n",
    "\n"
   ]
  },
  {
   "cell_type": "code",
   "execution_count": 6,
   "metadata": {},
   "outputs": [
    {
     "name": "stdout",
     "output_type": "stream",
     "text": [
      "Great Katana\n",
      "['Dagger', 'Dagger', 'Dagger', 'Great Katana', 'Great Katana', 'Great Katana', 'Greatsword', 'Greatsword', 'Greatsword', 'Katana', 'Katana', 'Katana', 'Sword', 'Sword', 'Sword']\n",
      "('Sword', 'Greatsword', 'Great Katana', 'Katana')\n"
     ]
    }
   ],
   "source": [
    "hwTuple = (\"Sword\", \"Greatsword\", \"Great Katana\", \"Katana\", \"Dagger\")\n",
    "\n",
    "hwTuple2 = hwTuple * 3\n",
    "\n",
    "print(hwTuple2[12])\n",
    "\n",
    "print(sorted(hwTuple2))\n",
    "\n",
    "hwTuple3 = (\"Sword\", \"Greatsword\", \"Great Katana\", \"Katana\")\n",
    "\n",
    "a, b, c, d = hwTuple3\n",
    "\n",
    "print(a, b, c, d)\n",
    "\n",
    "hwTuple4 = (50)\n",
    "\n",
    "print(hwTuple4)\n",
    "\n",
    "hwTuple5 = hwTuple2 + hwTuple3\n",
    "print(hwTuple5)\n",
    "\n",
    "\n"
   ]
  },
  {
   "cell_type": "code",
   "execution_count": 12,
   "metadata": {},
   "outputs": [
    {
     "name": "stdout",
     "output_type": "stream",
     "text": [
      "New fruit list: \n",
      "{'plum', 'lemon', 'lime', 'strawberry', 'starfruit', 'apple'}\n",
      "{'banana chip', 'plum', 'raisin', 'car', 'lemon', 'prune', 'lime', 'strawberry', 'starfruit', 'apple'}\n",
      "['plum', 'strawberry']\n",
      "{'banana chip'}\n"
     ]
    }
   ],
   "source": [
    "## 4. Create a set of about 3 elements\n",
    "    #add a list of fruits to the above set and print the result\n",
    "    #add a car element to your set\n",
    "    #create a 2nd set with a few odd items\n",
    "    #save the union of 1st set and 2nd set to a 3rd set\n",
    "    #pop an element from the 2nd set, and print the remainder of the set\n",
    "    #clear the 1st set and print the result\n",
    "    #discard an element, and remove another element from the 3rd set\n",
    "    #print the remainder of the 3rd set\n",
    "\n",
    "fruit = {\"apple\", \"starfruit\", \"lime\"}\n",
    "moarFruit = ([\"plum\", \"strawberry\", \"lemon\"])\n",
    "\n",
    "for elem in moarFruit:\n",
    "    fruit.add(elem)\n",
    "\n",
    "print(\"New fruit list: \")\n",
    "print(fruit)    \n",
    "\n",
    "fruit.add(\"car\")\n",
    "\n",
    "driedfruit = {\"raisin\", \"prune\", \"banana chip\"}\n",
    "\n",
    "for elem in driedfruit:\n",
    "    fruit.add(elem)\n",
    "\n",
    "print(fruit)   \n",
    "\n",
    "moarFruit.pop()\n",
    "print(moarFruit)\n",
    "\n",
    "fruit.clear()\n",
    "\n",
    "driedfruit.remove(\"prune\")\n",
    "driedfruit.discard(\"raisin\")\n",
    "\n",
    "print(driedfruit)"
   ]
  },
  {
   "cell_type": "code",
   "execution_count": 24,
   "metadata": {},
   "outputs": [
    {
     "name": "stdout",
     "output_type": "stream",
     "text": [
      "{'favorite food': 'Smoothie', 'age': 41, 'name': 'Umoya', 'Alive': True, 'favorite number': 1.234, 'favorite color': 'blue', 'Siblings': ['Stephanie', 'Kanika']}\n",
      "dict_keys(['favorite food', 'age', 'name', 'Alive', 'favorite number', 'favorite color', 'Siblings'])\n",
      "dict_values(['Smoothie', 41, 'Umoya', True, 1.234, 'blue', ['Stephanie', 'Kanika']])\n",
      "{'favorite food': 'Smoothie', 'age': 41, 'name': 'Umoya', 'Alive': True, 'favorite number': 1.234, 'favorite color': 'blue', 'Siblings': ['Stephanie', 'Kanika']}\n",
      "{'favorite food': 'Smoothie', 'age': 41, 'name': 'Umoya', 'Alive': True, 'favorite number': 1.234, 'Siblings': ['Stephanie', 'Kanika']}\n",
      "{}\n"
     ]
    }
   ],
   "source": [
    "## 5. Create a dictionary with at least 5 values of different data types\n",
    "    #print out 1 value\n",
    "    #replace any one value in your dictionary with your name\n",
    "    #add your favorite color to the dictionary\n",
    "    #add a list, tuple or set to your dictionary\n",
    "    #print a list of the dictionary keys\n",
    "    #print a list of the dictionary values\n",
    "    #copy your 1st dictionary into a 2nd dictionary\n",
    "    #pop an item from the 2nd dictionary, and print the dictionary\n",
    "    #remove all the elements from the 2nd dictionary and print the result\n",
    "\n",
    "hwDictionary = {\"favorite food\": \"Smoothie\", \"age\": 41, \"name\" : \"Amanzi\", \"Alive\": True, \"favorite number\": 1.234  }\n",
    "\n",
    "hwDictionary[\"name\"] = \"Umoya\"\n",
    "\n",
    "hwDictionary[\"favorite color\"] = \"blue\"\n",
    "\n",
    "hwDictionary.update({\"Siblings\": [\"Stephanie\",\"Kanika\" ]})\n",
    "\n",
    "print(hwDictionary)\n",
    "\n",
    "print(hwDictionary.keys())\n",
    "\n",
    "print(hwDictionary.values())\n",
    "\n",
    "hwDictionary2 = hwDictionary.copy()\n",
    "\n",
    "print(hwDictionary2)\n",
    "\n",
    "hwDictionary2.pop(\"favorite color\")\n",
    "print(hwDictionary2)\n",
    "\n",
    "hwDictionary2.clear()\n",
    "print(hwDictionary2)"
   ]
  }
 ],
 "metadata": {
  "kernelspec": {
   "display_name": "Python 3.10.5 64-bit",
   "language": "python",
   "name": "python3"
  },
  "language_info": {
   "codemirror_mode": {
    "name": "ipython",
    "version": 3
   },
   "file_extension": ".py",
   "mimetype": "text/x-python",
   "name": "python",
   "nbconvert_exporter": "python",
   "pygments_lexer": "ipython3",
   "version": "3.10.5"
  },
  "orig_nbformat": 4,
  "vscode": {
   "interpreter": {
    "hash": "072753f373865d6b158186b1f0f724b867295c26eb910829b189e1358af2d495"
   }
  }
 },
 "nbformat": 4,
 "nbformat_minor": 2
}
