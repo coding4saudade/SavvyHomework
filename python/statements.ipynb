{
 "cells": [
  {
   "cell_type": "code",
   "execution_count": 47,
   "metadata": {},
   "outputs": [
    {
     "name": "stdout",
     "output_type": "stream",
     "text": [
      "Enter your name:Carl\n",
      "Sorry Carl, You shall not pass! Go back to the shadow\n"
     ]
    }
   ],
   "source": [
    "input_name = input('Enter your name:') # input name\n",
    "\n",
    "lowered_input_name = input_name.lower()\n",
    "\n",
    "students = ['Amanzi', 'Angela', 'Holly'] #list of students for class\n",
    "students_lower=[] #empty list for changing list to lower case\n",
    "\n",
    "\n",
    "for name in students: #loop through student list\n",
    "    name_lower = name.lower() #create variable to hold lower case names\n",
    "    students_lower.append(name_lower) #add lower case names to empty list student_lower\n",
    "    # print(name_lower)\n",
    "    # print(\"Students list Lowered\")\n",
    "  \n",
    "    # print(students_lower)\n",
    "    # print(\" \")\n",
    "\n",
    "#     if len(students_lower) == len(students):\n",
    "    if lowered_input_name in students_lower: #check if input name is in the list\n",
    "                    \n",
    "        print(\"Hello, \" + input_name)  #print hello statement\n",
    "        break     \n",
    "    else:\n",
    "        print(\"Sorry \" + input_name + \", You shall not pass! Go back to the shadow\") #if name is not in list, reject them\n",
    "        break    \n"
   ]
  }
 ],
 "metadata": {
  "kernelspec": {
   "display_name": "Python 3 (ipykernel)",
   "language": "python",
   "name": "python3"
  },
  "language_info": {
   "codemirror_mode": {
    "name": "ipython",
    "version": 3
   },
   "file_extension": ".py",
   "mimetype": "text/x-python",
   "name": "python",
   "nbconvert_exporter": "python",
   "pygments_lexer": "ipython3",
   "version": "3.10.5"
  },
  "vscode": {
   "interpreter": {
    "hash": "072753f373865d6b158186b1f0f724b867295c26eb910829b189e1358af2d495"
   }
  }
 },
 "nbformat": 4,
 "nbformat_minor": 2
}
