{
 "cells": [
  {
   "cell_type": "code",
   "execution_count": null,
   "metadata": {},
   "outputs": [],
   "source": [
    "# import requests\n",
    "\n",
    "# baseurl = 'https://rickandmortyapi.com/api/'\n",
    "\n",
    "# endpoint = 'character'\n",
    "\n",
    "# r = requests.get(baseurl + endpoint)\n",
    "\n",
    "# data = r.json()\n",
    "\n",
    "# # print(data)\n",
    "# print(data['results'][0])"
   ]
  },
  {
   "cell_type": "code",
   "execution_count": null,
   "metadata": {},
   "outputs": [],
   "source": [
    "import requests\n",
    "    \n",
    "url = \"https://zylalabs.com/api/226/cities+cost+of+living+and+average+prices+api/232/get+cities\"\n",
    "    \n",
    "headers = {\n",
    "    'Authorization': 'Bearer 326|qySQCd3uZ7I39Bh8v1680nDrxjlB0liuk1zvdCXv'\n",
    "}\n",
    "    \n",
    "response = requests.request(\"GET\", url, headers=headers)\n",
    "\n",
    "response_data = response.json()\n",
    "\n",
    "print(response_data['cities'][0])\n",
    "#print(response.text)"
   ]
  },
  {
   "cell_type": "code",
   "execution_count": null,
   "metadata": {},
   "outputs": [],
   "source": [
    "# if (response_data['cities'][0]['city_name']) == \"Herat\":\n",
    "#     print(\"Herat is in the list\")\n",
    "#print(response_data['cities'][0]['city_name'])\n",
    "\n",
    "for x in response_data['cities']:\n",
    "    print(response_data['cities'][x]['city_name'])\n",
    "      \n"
   ]
  },
  {
   "cell_type": "code",
   "execution_count": null,
   "metadata": {},
   "outputs": [],
   "source": [
    "# import requests\n",
    "# import pandas as pd\n",
    "    \n",
    "# url = \"https://zylalabs.com/api/226/cities+cost+of+living+and+average+prices+api/233/get+prices?city_name=athens&country_name=greece\"\n",
    "    \n",
    "# headers = {\n",
    "#     'Authorization': 'Bearer 326|qySQCd3uZ7I39Bh8v1680nDrxjlB0liuk1zvdCXv'\n",
    "# }\n",
    "    \n",
    "# response = requests.request(\"GET\", url, headers=headers)\n",
    "    \n",
    "# print(response.text)\n",
    "\n",
    "# df = pd.DataFrame(response.json(), index=[54])"
   ]
  },
  {
   "cell_type": "code",
   "execution_count": null,
   "metadata": {},
   "outputs": [],
   "source": [
    "\n",
    "# import pandas as pd\n",
    "# import numpy as np\n",
    "# import requests\n",
    "# import json\n",
    "\n",
    "# url = \"https://zylalabs.com/api/226/cities+cost+of+living+and+average+prices+api/233/get+prices?city_name=raleigh&country_name=united&states\"\n",
    "\n",
    "# headers = {\n",
    "#     'Authorization': 'Bearer 326|qySQCd3uZ7I39Bh8v1680nDrxjlB0liuk1zvdCXv'\n",
    "# }\n",
    "\n",
    "# request = requests.get(url, headers=headers)\n",
    "\n",
    "\n",
    "\n",
    "# info = request.json()\n",
    "\n",
    "# print(info)"
   ]
  }
 ],
 "metadata": {
  "kernelspec": {
   "display_name": "Python 3.10.5 64-bit",
   "language": "python",
   "name": "python3"
  },
  "language_info": {
   "codemirror_mode": {
    "name": "ipython",
    "version": 3
   },
   "file_extension": ".py",
   "mimetype": "text/x-python",
   "name": "python",
   "nbconvert_exporter": "python",
   "pygments_lexer": "ipython3",
   "version": "3.10.5"
  },
  "orig_nbformat": 4,
  "vscode": {
   "interpreter": {
    "hash": "072753f373865d6b158186b1f0f724b867295c26eb910829b189e1358af2d495"
   }
  }
 },
 "nbformat": 4,
 "nbformat_minor": 2
}
