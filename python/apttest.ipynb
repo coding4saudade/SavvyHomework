{
 "cells": [
  {
   "cell_type": "code",
   "execution_count": 53,
   "metadata": {},
   "outputs": [
    {
     "name": "stdout",
     "output_type": "stream",
     "text": [
      "<class 'list'>\n"
     ]
    }
   ],
   "source": [
    "import requests\n",
    "\n",
    "baseurl = 'https://rickandmortyapi.com/api/'\n",
    "\n",
    "endpoint = 'character'\n",
    "\n",
    "r = requests.get(baseurl + endpoint)\n",
    "\n",
    "data = r.json()\n",
    "\n",
    "#print(data)\n",
    "\n",
    "\n",
    "# print(data['results'][0]['name'])\n",
    "# print(data['results'][1]['name'])\n",
    "# print(data['results'][2]['name'])\n",
    "\n",
    "#results is the key, the value is a list of dictionaries\n",
    "#there are 20 objects in the list\n",
    "\n",
    "#print(len(data['results']))\n",
    "#prints out the number of objects -- useful when you do not know how many objects there are\n",
    "\n",
    "\n",
    "#print(type(data['results']))\n",
    "# verify data type of results is a list\n",
    "\n",
    "#need to use range to create a iterable. length is not iterable, but a range is\n",
    "#print(range(len(data['results'])))\n",
    "\n",
    "#for x in range(len(data['results'])):\n",
    "#    print(x)\n",
    "#   prints the index of the object in the list\n",
    "\n",
    "#    #print(data['results'][x]['name'])\n",
    "#    prints the name value of each object\n",
    "\n"
   ]
  },
  {
   "cell_type": "code",
   "execution_count": 112,
   "metadata": {},
   "outputs": [
    {
     "name": "stdout",
     "output_type": "stream",
     "text": [
      "['Fremont', 'Columbia', 'San Francisco', 'San Jose', 'Irvine', 'Madison', 'Seattle', 'Overland Park', 'Huntington Beach', 'San Diego', 'Fargo', 'Minneapolis', 'Bismarck', 'Santa Rosa', 'Santa Clarita', 'Oakland', 'Sioux Falls', 'Glendale', 'Scottsdale', 'Anaheim', 'Aurora', 'Plano', 'Oxnard', 'Garden Grove', 'Chula Vista', 'Charleston', 'Raleigh', 'Honolulu', 'Cedar Rapids', 'Austin', 'Portland', 'Pearl City', 'Oceanside', 'Gilbert', 'Lincoln', 'Boston', 'South Burlington', 'Santa Ana', 'Pembroke Pines', 'Burlington', 'Portland', 'Aurora', 'Jersey City', 'Yonkers', 'Chandler', 'St. Paul', 'Omaha', 'Juneau', 'Sacramento', 'Cheyenne', 'Virginia Beach', 'Peoria', 'Tempe', 'Los Angeles', 'Salt Lake City', 'Chicago', 'Denver', 'New York', 'Anchorage', 'Long Beach', 'Nashua', 'Boise', 'Cape Coral', 'Colorado Springs', 'Pittsburgh', 'Fort Lauderdale', 'Charlotte', 'Bridgeport', 'Chesapeake', 'Warwick', 'Rancho Cucamonga', 'Rapid City', 'Missoula', 'Durham', 'Miami', 'Des Moines', 'Columbia', 'Reno', 'Casper', 'Tampa', 'West Valley City', 'Tacoma', 'Grand Prairie', 'Vancouver', 'Washington', 'Port St. Lucie', 'Mesa', 'Providence', 'Irving', 'Manchester', 'Orlando', 'Grand Rapids', 'Atlanta', 'Hialeah', 'Tallahassee', 'Ontario', 'Garland', 'Henderson', 'Fontana', 'St. Petersburg', 'Modesto', 'Moreno Valley', 'Fort Worth', 'Riverside', 'Billings', 'Spokane', 'Arlington', 'Glendale', 'Nashville', 'Worcester', 'Dallas', 'Houston', 'Norfolk', 'Milwaukee', 'Laredo', 'Wilmington', 'Tucson', 'New Haven', 'Phoenix', 'El Paso', 'Albuquerque', 'Stockton', 'Fresno', 'Nampa', 'Brownsville', 'Bakersfield', 'Jacksonville', 'Las Cruces', 'Winston-Salem', 'San Antonio', 'Rochester', 'Newark', 'Las Vegas', 'Columbus', 'North Las Vegas', 'Buffalo', 'Greensboro', 'Lexington-Fayette', 'Corpus Christi', 'Huntsville', 'Philadelphia', 'Wichita', 'Amarillo', 'Lewiston', 'Salem', 'Newport News', 'New Orleans', 'Oklahoma City', 'Baltimore', 'Richmond', 'Dover', 'Kansas City', 'San Bernardino', 'Cincinnati', 'Fort Wayne', 'Springfield', 'Lubbock', 'Baton Rouge', 'Louisville', 'Indianapolis', 'St. Louis', 'Tulsa', 'Little Rock', 'Knoxville', 'Akron', 'Chattanooga', 'Columbus', 'Fayetteville', 'Jackson', 'Birmingham', 'Toledo', 'Charleston', 'Shreveport', 'Mobile', 'Fort Smith', 'Augusta', 'Cleveland', 'Montgomery', 'Huntington', 'Memphis', 'Gulfport', 'Detroit']\n"
     ]
    }
   ],
   "source": [
    "\n",
    "import pandas as pd\n",
    "\n",
    "df = pd.read_csv(\"HappinessWH.csv\")\n",
    "\n",
    "#df.info()\n",
    "\n",
    "#df.drop(['Overall Rank', 'Total Score', 'Emotional & Physical Well-Being','Income & Employment', 'Community & Environment'], axis=1)\n",
    "df.drop(df.columns[[0, 2, 3,4,5]], axis=1, inplace=True)\n",
    "\n",
    "\n",
    "\n",
    "#df = df.style.hide_index()\n",
    "\n",
    "#cities = df.values.tolist()\n",
    "\n",
    "\n",
    "#print(type(df))\n",
    "list = df['City'].tolist()\n",
    "\n",
    "updated_list = []\n",
    "for x in range(len(list)):\n",
    "    \n",
    "#      #     list[0][:-4]  \n",
    "#     updated_list.append(x) \n",
    "    updated_list.append(list[x][:-4])\n",
    "\n",
    "\n",
    "print(updated_list)\n",
    "#updated list is the list of cities\n",
    "\n",
    "\n",
    "\n",
    "\n",
    "\n",
    "\n",
    "\n",
    "\n",
    "\n",
    "\n"
   ]
  },
  {
   "cell_type": "code",
   "execution_count": 114,
   "metadata": {},
   "outputs": [
    {
     "name": "stdout",
     "output_type": "stream",
     "text": [
      "{'city_id': 1, 'city_name': 'Herat', 'country_name': 'Afghanistan', 'lat': 34.352865, 'lng': 62.20402869999999, 'state_code': None}\n"
     ]
    }
   ],
   "source": [
    "import requests\n",
    "    \n",
    "url = \"https://zylalabs.com/api/226/cities+cost+of+living+and+average+prices+api/232/get+cities\"\n",
    "    \n",
    "headers = {\n",
    "    'Authorization': 'Bearer 326|qySQCd3uZ7I39Bh8v1680nDrxjlB0liuk1zvdCXv'\n",
    "}\n",
    "    \n",
    "r = requests.request(\"GET\", url, headers=headers).json()\n",
    "\n",
    "\n",
    "\n",
    "print(r['cities'][0])\n",
    "#print(response.text)\n",
    "# if (response_data['cities'][0]['city_name']) == \"Herat\":\n",
    "#     print(\"Herat is in the list\")"
   ]
  },
  {
   "cell_type": "code",
   "execution_count": null,
   "metadata": {},
   "outputs": [],
   "source": [
    "# import requests\n",
    "# import pandas as pd\n",
    "    \n",
    "# url = \"https://zylalabs.com/api/226/cities+cost+of+living+and+average+prices+api/233/get+prices?city_name=athens&country_name=greece\"\n",
    "    \n",
    "# headers = {\n",
    "#     'Authorization': 'Bearer 326|qySQCd3uZ7I39Bh8v1680nDrxjlB0liuk1zvdCXv'\n",
    "# }\n",
    "    \n",
    "# response = requests.request(\"GET\", url, headers=headers)\n",
    "    \n",
    "# print(response.text)\n",
    "\n",
    "# df = pd.DataFrame(response.json(), index=[54])"
   ]
  },
  {
   "cell_type": "code",
   "execution_count": 116,
   "metadata": {},
   "outputs": [
    {
     "name": "stdout",
     "output_type": "stream",
     "text": [
      "{\"city_id\":725,\"city_name\":\"Athens\",\"state_code\":null,\"country_name\":\"Greece\",\"exchange_rate\":{\"EUR\":0.9641249120236018,\"AUD\":1.4970401365200876,\"USD\":1,\"CAD\":1.3441251048485843,\"CNY\":7.205101184909517,\"CZK\":23.476015464563588,\"DKK\":7.170099594103413,\"GBP\":0.8286701825088458,\"HKD\":7.820719044359387,\"JPY\":138.2164846077458,\"NZD\":1.6113843869611748,\"NOK\":9.949329451123688,\"RUB\":60.814997927131444,\"KRW\":1341.0302098899933,\"CHF\":0.9457197674530712,\"UAH\":37.08369664773768,\"SEK\":10.458629400025067},\"exchange_rates_updated\":{\"date\":\"2022-11-28\",\"timestamp\":1669618803},\"prices\":[{\"good_id\":1,\"item_name\":\"Price per square meter to Buy Apartment Outside of City Center\",\"category_id\":1,\"category_name\":\"Buy Apartment\",\"min\":1135.12,\"avg\":1894.03,\"max\":2652.94,\"usd\":{\"min\":\"1177.36\",\"avg\":\"1964.51\",\"max\":\"2751.66\"},\"measure\":\"money\",\"currency_code\":\"EUR\"},{\"good_id\":2,\"item_name\":\"Price per square meter to Buy Apartment in City Center\",\"category_id\":1,\"category_name\":\"Buy Apartment\",\"min\":1238.32,\"avg\":1868.72,\"max\":2889.4,\"usd\":{\"min\":\"1284.40\",\"avg\":\"1938.26\",\"max\":\"2996.91\"},\"measure\":\"money\",\"currency_code\":\"EUR\"},{\"good_id\":3,\"item_name\":\"International Primary School, Yearly for 1 Child\",\"category_id\":2,\"category_name\":\"Childcare\",\"min\":5159.65,\"avg\":7387.41,\"max\":12383.17,\"usd\":{\"min\":\"5351.64\",\"avg\":\"7662.30\",\"max\":\"12843.95\"},\"measure\":\"money\",\"currency_code\":\"EUR\"},{\"good_id\":4,\"item_name\":\"Private Preschool or Kindergarten, Monthly for 1 Child\",\"category_id\":2,\"category_name\":\"Childcare\",\"min\":309.58,\"avg\":406.46,\"max\":619.16,\"usd\":{\"min\":\"321.10\",\"avg\":\"421.58\",\"max\":\"642.20\"},\"measure\":\"money\",\"currency_code\":\"EUR\"},{\"good_id\":5,\"item_name\":\"Pair of Jeans in a Chain Store Like George, H&M, Zara, etc.\",\"category_id\":3,\"category_name\":\"Clothing And Shoes\",\"min\":36.12,\"avg\":73.04,\"max\":109.96,\"usd\":{\"min\":\"37.46\",\"avg\":\"75.76\",\"max\":\"114.05\"},\"measure\":\"money\",\"currency_code\":\"EUR\"},{\"good_id\":6,\"item_name\":\"Pair of Leather Business Shoes\",\"category_id\":3,\"category_name\":\"Clothing And Shoes\",\"min\":51.59,\"avg\":92.45,\"max\":133.31,\"usd\":{\"min\":\"53.51\",\"avg\":\"95.89\",\"max\":\"138.27\"},\"measure\":\"money\",\"currency_code\":\"EUR\"},{\"good_id\":7,\"item_name\":\"Pair of Running Shoes, Mid-Range Price\",\"category_id\":3,\"category_name\":\"Clothing And Shoes\",\"min\":51.59,\"avg\":70.39,\"max\":98.03,\"usd\":{\"min\":\"53.51\",\"avg\":\"73.01\",\"max\":\"101.68\"},\"measure\":\"money\",\"currency_code\":\"EUR\"},{\"good_id\":9,\"item_name\":\"Apples, 1 kg\",\"category_id\":4,\"category_name\":\"Markets\",\"min\":1.02,\"avg\":1.61,\"max\":2.27,\"usd\":{\"min\":\"1.06\",\"avg\":\"1.67\",\"max\":\"2.35\"},\"measure\":\"money\",\"currency_code\":\"EUR\"},{\"good_id\":10,\"item_name\":\"Banana, 1 kg\",\"category_id\":4,\"category_name\":\"Markets\",\"min\":1.21,\"avg\":1.54,\"max\":2.58,\"usd\":{\"min\":\"1.26\",\"avg\":\"1.60\",\"max\":\"2.68\"},\"measure\":\"money\",\"currency_code\":\"EUR\"},{\"good_id\":11,\"item_name\":\"Beef Round or Equivalent Back Leg Red Meat, 1 kg \",\"category_id\":4,\"category_name\":\"Markets\",\"min\":7.22,\"avg\":9.64,\"max\":12.39,\"usd\":{\"min\":\"7.49\",\"avg\":\"10.00\",\"max\":\"12.85\"},\"measure\":\"money\",\"currency_code\":\"EUR\"},{\"good_id\":12,\"item_name\":\"Bottle of Wine, Mid-Range Price\",\"category_id\":4,\"category_name\":\"Markets\",\"min\":3.1,\"avg\":6.19,\"max\":10.32,\"usd\":{\"min\":\"3.22\",\"avg\":\"6.42\",\"max\":\"10.70\"},\"measure\":\"money\",\"currency_code\":\"EUR\"},{\"good_id\":13,\"item_name\":\"Chicken Breasts, Boneless and Skinless, 1 kg\",\"category_id\":4,\"category_name\":\"Markets\",\"min\":4.13,\"avg\":7.26,\"max\":10.39,\"usd\":{\"min\":\"4.28\",\"avg\":\"7.53\",\"max\":\"10.78\"},\"measure\":\"money\",\"currency_code\":\"EUR\"},{\"good_id\":14,\"item_name\":\"Domestic Beer, 0.5 liter Bottle\",\"category_id\":4,\"category_name\":\"Markets\",\"min\":1.03,\"avg\":1.4,\"max\":2.34,\"usd\":{\"min\":\"1.07\",\"avg\":\"1.45\",\"max\":\"2.43\"},\"measure\":\"money\",\"currency_code\":\"EUR\"},{\"good_id\":15,\"item_name\":\"Eggs, 12 pack\",\"category_id\":4,\"category_name\":\"Markets\",\"min\":1.61,\"avg\":3.23,\"max\":4.95,\"usd\":{\"min\":\"1.67\",\"avg\":\"3.35\",\"max\":\"5.13\"},\"measure\":\"money\",\"currency_code\":\"EUR\"},{\"good_id\":17,\"item_name\":\"Lettuce, 1 head\",\"category_id\":4,\"category_name\":\"Markets\",\"min\":0.42,\"avg\":0.6,\"max\":1.03,\"usd\":{\"min\":\"0.44\",\"avg\":\"0.62\",\"max\":\"1.07\"},\"measure\":\"money\",\"currency_code\":\"EUR\"},{\"good_id\":18,\"item_name\":\"Loaf of Fresh White Bread, 0.5 kg\",\"category_id\":4,\"category_name\":\"Markets\",\"min\":0.52,\"avg\":0.81,\"max\":1.29,\"usd\":{\"min\":\"0.54\",\"avg\":\"0.84\",\"max\":\"1.34\"},\"measure\":\"money\",\"currency_code\":\"EUR\"},{\"good_id\":19,\"item_name\":\"Local Cheese, 1 kg\",\"category_id\":4,\"category_name\":\"Markets\",\"min\":6.19,\"avg\":8.36,\"max\":13.42,\"usd\":{\"min\":\"6.42\",\"avg\":\"8.67\",\"max\":\"13.92\"},\"measure\":\"money\",\"currency_code\":\"EUR\"},{\"good_id\":20,\"item_name\":\"Milk, Regular,1 liter\",\"category_id\":4,\"category_name\":\"Markets\",\"min\":0.93,\"avg\":1.25,\"max\":1.65,\"usd\":{\"min\":\"0.96\",\"avg\":\"1.30\",\"max\":\"1.71\"},\"measure\":\"money\",\"currency_code\":\"EUR\"},{\"good_id\":21,\"item_name\":\"Onion, 1 kg\",\"category_id\":4,\"category_name\":\"Markets\",\"min\":0.52,\"avg\":0.84,\"max\":1.55,\"usd\":{\"min\":\"0.54\",\"avg\":\"0.87\",\"max\":\"1.61\"},\"measure\":\"money\",\"currency_code\":\"EUR\"},{\"good_id\":22,\"item_name\":\"Oranges, 1 kg\",\"category_id\":4,\"category_name\":\"Markets\",\"min\":0.42,\"avg\":1.08,\"max\":2.07,\"usd\":{\"min\":\"0.44\",\"avg\":\"1.12\",\"max\":\"2.15\"},\"measure\":\"money\",\"currency_code\":\"EUR\"},{\"good_id\":23,\"item_name\":\"Pack of Cigarettes\",\"category_id\":4,\"category_name\":\"Markets\",\"min\":4.54,\"avg\":4.75,\"max\":5.16,\"usd\":{\"min\":\"4.71\",\"avg\":\"4.93\",\"max\":\"5.35\"},\"measure\":\"money\",\"currency_code\":\"EUR\"},{\"good_id\":24,\"item_name\":\"Potato, 1 kg\",\"category_id\":4,\"category_name\":\"Markets\",\"min\":0.52,\"avg\":0.86,\"max\":1.45,\"usd\":{\"min\":\"0.54\",\"avg\":\"0.89\",\"max\":\"1.50\"},\"measure\":\"money\",\"currency_code\":\"EUR\"},{\"good_id\":25,\"item_name\":\"White Rice, 1 kg\",\"category_id\":4,\"category_name\":\"Markets\",\"min\":0.93,\"avg\":1.83,\"max\":3.1,\"usd\":{\"min\":\"0.96\",\"avg\":\"1.90\",\"max\":\"3.22\"},\"measure\":\"money\",\"currency_code\":\"EUR\"},{\"good_id\":26,\"item_name\":\"Tomato, 1 kg\",\"category_id\":4,\"category_name\":\"Markets\",\"min\":0.77,\"avg\":1.53,\"max\":2.29,\"usd\":{\"min\":\"0.80\",\"avg\":\"1.59\",\"max\":\"2.38\"},\"measure\":\"money\",\"currency_code\":\"EUR\"},{\"good_id\":27,\"item_name\":\"Water, 1.5 liter Bottle\",\"category_id\":4,\"category_name\":\"Markets\",\"min\":0.31,\"avg\":0.82,\"max\":1.55,\"usd\":{\"min\":\"0.32\",\"avg\":\"0.85\",\"max\":\"1.61\"},\"measure\":\"money\",\"currency_code\":\"EUR\"},{\"good_id\":28,\"item_name\":\"One bedroom apartment outside of city centre\",\"category_id\":5,\"category_name\":\"Rent Per Month\",\"min\":257.98,\"avg\":352.36,\"max\":515.97,\"usd\":{\"min\":\"267.58\",\"avg\":\"365.47\",\"max\":\"535.17\"},\"measure\":\"money\",\"currency_code\":\"EUR\"},{\"good_id\":29,\"item_name\":\"One bedroom apartment in city centre\",\"category_id\":5,\"category_name\":\"Rent Per Month\",\"min\":309.58,\"avg\":410.01,\"max\":619.16,\"usd\":{\"min\":\"321.10\",\"avg\":\"425.27\",\"max\":\"642.20\"},\"measure\":\"money\",\"currency_code\":\"EUR\"},{\"good_id\":30,\"item_name\":\"Three bedroom apartment outside of city centre\",\"category_id\":5,\"category_name\":\"Rent Per Month\",\"min\":464.37,\"avg\":651.9,\"max\":928.74,\"usd\":{\"min\":\"481.65\",\"avg\":\"676.16\",\"max\":\"963.30\"},\"measure\":\"money\",\"currency_code\":\"EUR\"},{\"good_id\":31,\"item_name\":\"Three bedroom apartment in city centre\",\"category_id\":5,\"category_name\":\"Rent Per Month\",\"min\":515.97,\"avg\":734.61,\"max\":1031.93,\"usd\":{\"min\":\"535.17\",\"avg\":\"761.94\",\"max\":\"1070.33\"},\"measure\":\"money\",\"currency_code\":\"EUR\"},{\"good_id\":32,\"item_name\":\"Cappuccino\",\"category_id\":6,\"category_name\":\"Restaurants\",\"min\":1.55,\"avg\":3.21,\"max\":4.87,\"usd\":{\"min\":\"1.61\",\"avg\":\"3.33\",\"max\":\"5.05\"},\"measure\":\"money\",\"currency_code\":\"EUR\"},{\"good_id\":33,\"item_name\":\"Coca-Cola, 0.33 liter Bottle\",\"category_id\":6,\"category_name\":\"Restaurants\",\"min\":1.03,\"avg\":1.8,\"max\":3.1,\"usd\":{\"min\":\"1.07\",\"avg\":\"1.87\",\"max\":\"3.22\"},\"measure\":\"money\",\"currency_code\":\"EUR\"},{\"good_id\":34,\"item_name\":\"Domestic Beer, 0.5 liter Draught\",\"category_id\":6,\"category_name\":\"Restaurants\",\"min\":2.58,\"avg\":4.13,\"max\":5.68,\"usd\":{\"min\":\"2.68\",\"avg\":\"4.28\",\"max\":\"5.89\"},\"measure\":\"money\",\"currency_code\":\"EUR\"},{\"good_id\":35,\"item_name\":\"Imported Beer, 0.33 liter Bottle\",\"category_id\":6,\"category_name\":\"Restaurants\",\"min\":3.1,\"avg\":5.16,\"max\":7.22,\"usd\":{\"min\":\"3.22\",\"avg\":\"5.35\",\"max\":\"7.49\"},\"measure\":\"money\",\"currency_code\":\"EUR\"},{\"good_id\":36,\"item_name\":\"McMeal at McDonalds or Alternative Combo Meal\",\"category_id\":6,\"category_name\":\"Restaurants\",\"min\":5.99,\"avg\":6.19,\"max\":8.25,\"usd\":{\"min\":\"6.21\",\"avg\":\"6.42\",\"max\":\"8.56\"},\"measure\":\"money\",\"currency_code\":\"EUR\"},{\"good_id\":37,\"item_name\":\"Meal for 2 People, Mid-range Restaurant, Three-course\",\"category_id\":6,\"category_name\":\"Restaurants\",\"min\":30.96,\"avg\":41.28,\"max\":72.23,\"usd\":{\"min\":\"32.11\",\"avg\":\"42.82\",\"max\":\"74.92\"},\"measure\":\"money\",\"currency_code\":\"EUR\"},{\"good_id\":38,\"item_name\":\"Meal in Inexpensive Restaurant\",\"category_id\":6,\"category_name\":\"Restaurants\",\"min\":5.67,\"avg\":10.32,\"max\":15.48,\"usd\":{\"min\":\"5.88\",\"avg\":\"10.70\",\"max\":\"16.06\"},\"measure\":\"money\",\"currency_code\":\"EUR\"},{\"good_id\":40,\"item_name\":\"Average Monthly Net Salary, After Tax\",\"category_id\":7,\"category_name\":\"Salaries And Financing\",\"min\":759.25,\"avg\":843.61,\"max\":927.97,\"usd\":{\"min\":\"787.50\",\"avg\":\"875.00\",\"max\":\"962.50\"},\"measure\":\"money\",\"currency_code\":\"EUR\"},{\"good_id\":42,\"item_name\":\"Cinema ticket, 1 Seat\",\"category_id\":8,\"category_name\":\"Sports And Leisure\",\"min\":7.22,\"avg\":8.25,\"max\":9.29,\"usd\":{\"min\":\"7.49\",\"avg\":\"8.56\",\"max\":\"9.64\"},\"measure\":\"money\",\"currency_code\":\"EUR\"},{\"good_id\":43,\"item_name\":\"Fitness Club, Monthly Fee for 1 Adult\",\"category_id\":8,\"category_name\":\"Sports And Leisure\",\"min\":7.22,\"avg\":27.19,\"max\":51.59,\"usd\":{\"min\":\"7.49\",\"avg\":\"28.20\",\"max\":\"53.51\"},\"measure\":\"money\",\"currency_code\":\"EUR\"},{\"good_id\":44,\"item_name\":\"Tennis Court Rent, 1 Hour on Weekend\",\"category_id\":8,\"category_name\":\"Sports And Leisure\",\"min\":10.32,\"avg\":20.57,\"max\":30.96,\"usd\":{\"min\":\"10.70\",\"avg\":\"21.34\",\"max\":\"32.11\"},\"measure\":\"money\",\"currency_code\":\"EUR\"},{\"good_id\":45,\"item_name\":\"Gasoline, 1 liter\",\"category_id\":9,\"category_name\":\"Transportation\",\"min\":1.4,\"avg\":1.51,\"max\":1.65,\"usd\":{\"min\":\"1.45\",\"avg\":\"1.57\",\"max\":\"1.71\"},\"measure\":\"money\",\"currency_code\":\"EUR\"},{\"good_id\":46,\"item_name\":\"Monthly Pass, Regular Price\",\"category_id\":9,\"category_name\":\"Transportation\",\"min\":27.86,\"avg\":30.96,\"max\":34.06,\"usd\":{\"min\":\"28.90\",\"avg\":\"32.11\",\"max\":\"35.33\"},\"measure\":\"money\",\"currency_code\":\"EUR\"},{\"good_id\":47,\"item_name\":\"One-way Ticket, Local Transport\",\"category_id\":9,\"category_name\":\"Transportation\",\"min\":1.24,\"avg\":1.45,\"max\":1.66,\"usd\":{\"min\":\"1.29\",\"avg\":\"1.50\",\"max\":\"1.72\"},\"measure\":\"money\",\"currency_code\":\"EUR\"},{\"good_id\":48,\"item_name\":\"Taxi, price for 1 hour Waiting, Normal Tariff\",\"category_id\":9,\"category_name\":\"Transportation\",\"min\":11.35,\"avg\":12.19,\"max\":20.64,\"usd\":{\"min\":\"11.77\",\"avg\":\"12.64\",\"max\":\"21.41\"},\"measure\":\"money\",\"currency_code\":\"EUR\"},{\"good_id\":49,\"item_name\":\"Taxi, price for 1 km, Normal Tariff\",\"category_id\":9,\"category_name\":\"Transportation\",\"min\":0.69,\"avg\":0.77,\"max\":0.85,\"usd\":{\"min\":\"0.72\",\"avg\":\"0.80\",\"max\":\"0.88\"},\"measure\":\"money\",\"currency_code\":\"EUR\"},{\"good_id\":50,\"item_name\":\"Taxi Start, Normal Tariff\",\"category_id\":9,\"category_name\":\"Transportation\",\"min\":2.68,\"avg\":3.62,\"max\":4.56,\"usd\":{\"min\":\"2.78\",\"avg\":\"3.75\",\"max\":\"4.73\"},\"measure\":\"money\",\"currency_code\":\"EUR\"},{\"good_id\":52,\"item_name\":\"Volkswagen Golf 1.4 90 KW Trendline (Or Equivalent New Car)\",\"category_id\":9,\"category_name\":\"Transportation\",\"min\":18574.76,\"avg\":21670.55,\"max\":24766.34,\"usd\":{\"min\":\"19265.93\",\"avg\":\"22476.91\",\"max\":\"25687.90\"},\"measure\":\"money\",\"currency_code\":\"EUR\"},{\"good_id\":53,\"item_name\":\"Prepaid Mobile Tariff Local, price per 1 min, No Discounts or Plans\",\"category_id\":10,\"category_name\":\"Utilities Per Month\",\"min\":0.06,\"avg\":0.35,\"max\":0.72,\"usd\":{\"min\":\"0.06\",\"avg\":\"0.36\",\"max\":\"0.75\"},\"measure\":\"money\",\"currency_code\":\"EUR\"},{\"good_id\":54,\"item_name\":\"Basic utilities for 85 square meter Apartment including Electricity, Heating or Cooling, Water and Garbage\",\"category_id\":10,\"category_name\":\"Utilities Per Month\",\"min\":87.72,\"avg\":143.33,\"max\":219.28,\"usd\":{\"min\":\"90.98\",\"avg\":\"148.66\",\"max\":\"227.44\"},\"measure\":\"money\",\"currency_code\":\"EUR\"},{\"good_id\":55,\"item_name\":\"Internet, 60 Mbps or More, Unlimited Data, Cable/ADSL\",\"category_id\":10,\"category_name\":\"Utilities Per Month\",\"min\":25.8,\"avg\":31.65,\"max\":51.59,\"usd\":{\"min\":\"26.76\",\"avg\":\"32.83\",\"max\":\"53.51\"},\"measure\":\"money\",\"currency_code\":\"EUR\"},{\"good_id\":58,\"item_name\":\"Water, 0.33 liter Bottle\",\"category_id\":4,\"category_name\":\"Markets\",\"min\":0.47,\"avg\":0.52,\"max\":0.57,\"usd\":{\"min\":\"0.49\",\"avg\":\"0.54\",\"max\":\"0.59\"},\"measure\":\"money\",\"currency_code\":\"EUR\"},{\"good_id\":64,\"item_name\":\"Summer Dress in a Chain Store Like George, H&M, Zara, etc.\",\"category_id\":3,\"category_name\":\"Clothing And Shoes\",\"min\":18.57,\"avg\":29.31,\"max\":51.59,\"usd\":{\"min\":\"19.26\",\"avg\":\"30.40\",\"max\":\"53.51\"},\"measure\":\"money\",\"currency_code\":\"EUR\"},{\"good_id\":65,\"item_name\":\"Mortgage Interest Rate in Percentages for 20 Years Fixed-Rate, Yearly, Fixed-Rate\",\"category_id\":7,\"category_name\":\"Salaries And Financing\",\"min\":4.02,\"avg\":4.47,\"max\":4.92,\"measure\":\"percent\"},{\"good_id\":68,\"item_name\":\"Imported Beer, 0.33 liter Bottle\",\"category_id\":4,\"category_name\":\"Markets\",\"min\":1.03,\"avg\":2.08,\"max\":3.13,\"usd\":{\"min\":\"1.07\",\"avg\":\"2.16\",\"max\":\"3.25\"},\"measure\":\"money\",\"currency_code\":\"EUR\"}],\"error\":null}\n"
     ]
    }
   ],
   "source": [
    "\n",
    "import requests\n",
    "    \n",
    "url = \"https://zylalabs.com/api/226/cities+cost+of+living+and+average+prices+api/233/get+prices\"\n",
    "    \n",
    "headers = {\n",
    "    'Authorization': 'Bearer 326|qySQCd3uZ7I39Bh8v1680nDrxjlB0liuk1zvdCXv'\n",
    "}\n",
    "    \n",
    "response = requests.request(\"GET\", url, headers=headers)\n",
    "    \n",
    "print(response.text)\n"
   ]
  },
  {
   "cell_type": "code",
   "execution_count": null,
   "metadata": {},
   "outputs": [],
   "source": [
    "\n",
    "# import pandas as pd\n",
    "# import numpy as np\n",
    "# import requests\n",
    "# import json\n",
    "\n",
    "# url = \"https://zylalabs.com/api/226/cities+cost+of+living+and+average+prices+api/233/get+prices?city_name=raleigh&country_name=united&states\"\n",
    "\n",
    "# headers = {\n",
    "#     'Authorization': 'Bearer 326|qySQCd3uZ7I39Bh8v1680nDrxjlB0liuk1zvdCXv'\n",
    "# }\n",
    "\n",
    "# request = requests.get(url, headers=headers)\n",
    "\n",
    "\n",
    "\n",
    "# info = request.json()\n",
    "\n",
    "# print(info)"
   ]
  }
 ],
 "metadata": {
  "kernelspec": {
   "display_name": "Python 3.10.5 64-bit",
   "language": "python",
   "name": "python3"
  },
  "language_info": {
   "codemirror_mode": {
    "name": "ipython",
    "version": 3
   },
   "file_extension": ".py",
   "mimetype": "text/x-python",
   "name": "python",
   "nbconvert_exporter": "python",
   "pygments_lexer": "ipython3",
   "version": "3.10.5"
  },
  "orig_nbformat": 4,
  "vscode": {
   "interpreter": {
    "hash": "072753f373865d6b158186b1f0f724b867295c26eb910829b189e1358af2d495"
   }
  }
 },
 "nbformat": 4,
 "nbformat_minor": 2
}
