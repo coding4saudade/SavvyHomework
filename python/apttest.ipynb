{
 "cells": [
  {
   "cell_type": "code",
   "execution_count": null,
   "metadata": {},
   "outputs": [],
   "source": [
    "import requests\n",
    "\n",
    "baseurl = 'https://rickandmortyapi.com/api/'\n",
    "\n",
    "endpoint = 'character'\n",
    "\n",
    "r = requests.get(baseurl + endpoint)\n",
    "\n",
    "data = r.json()\n",
    "\n",
    "print(data)\n",
    "\n",
    "\n",
    "# print(data['results'][0]['name'])\n",
    "# print(data['results'][1]['name'])\n",
    "# print(data['results'][2]['name'])\n",
    "\n",
    "#results is the key, the value is a list of dictionaries\n",
    "#there are 20 objects in the list\n",
    "\n",
    "#print(len(data['results']))\n",
    "#prints out the number of objects -- useful when you do not know how many objects there are\n",
    "\n",
    "\n",
    "#print(type(data['results']))\n",
    "# verify data type of results is a list\n",
    "\n",
    "#need to use range to create a iterable. length is not iterable, but a range is\n",
    "#print(range(len(data['results'])))\n",
    "\n",
    "#for x in range(len(data['results'])):\n",
    "#    print(x)\n",
    "#   prints the index of the object in the list\n",
    "\n",
    "#    #print(data['results'][x]['name'])\n",
    "#    prints the name value of each object\n",
    "\n"
   ]
  },
  {
   "cell_type": "code",
   "execution_count": 1,
   "metadata": {},
   "outputs": [
    {
     "name": "stdout",
     "output_type": "stream",
     "text": [
      "hello\n"
     ]
    }
   ],
   "source": [
    "print(\"hello\")"
   ]
  },
  {
   "cell_type": "code",
   "execution_count": null,
   "metadata": {},
   "outputs": [],
   "source": [
    "\n",
    "import pandas as pd\n",
    "\n",
    "df_all = pd.read_csv(\"HappinessWH.csv\")\n",
    "\n",
    "#df.info()\n",
    "\n",
    "#df.drop(['Overall Rank', 'Total Score', 'Emotional & Physical Well-Being','Income & Employment', 'Community & Environment'], axis=1)\n",
    "df = df_all.drop(df_all.columns[[0, 2, 3,4,5]], axis=1, inplace=True)\n",
    "\n",
    "print(df)\n",
    "\n",
    "#df = df.style.hide_index()\n",
    "\n",
    "#cities = df.values.tolist()\n",
    "\n",
    "\n",
    "#print(type(df))\n",
    "#hplist = df['City'].tolist()\n",
    "\n",
    "# updated_list = []\n",
    "# for x in range(len(hplist)):\n",
    "    \n",
    "# #      #     list[0][:-4]  \n",
    "# #     updated_list.append(x) \n",
    "#     updated_list.append(hplist[x][:-4])\n",
    "\n",
    "\n",
    "# print(updated_list)\n",
    "#updated list is the list of cities\n",
    "\n",
    "\n",
    "\n",
    "\n",
    "\n",
    "\n",
    "\n",
    "\n",
    "\n",
    "\n"
   ]
  },
  {
   "cell_type": "code",
   "execution_count": null,
   "metadata": {},
   "outputs": [],
   "source": []
  },
  {
   "cell_type": "code",
   "execution_count": null,
   "metadata": {},
   "outputs": [],
   "source": [
    "import requests\n",
    "    \n",
    "url = \"https://zylalabs.com/api/226/cities+cost+of+living+and+average+prices+api/232/get+cities\"\n",
    "    \n",
    "headers = {\n",
    "    'Authorization': 'Bearer 326|qySQCd3uZ7I39Bh8v1680nDrxjlB0liuk1zvdCXv'\n",
    "}\n",
    "    \n",
    "r = requests.request(\"GET\", url, headers=headers).json()\n",
    "\n",
    "\n",
    "data = r\n",
    "#print(r['cities'][0])\n",
    "#print(response.text)\n",
    "# if (response_data['cities'][0]['city_name']) == \"Herat\":\n",
    "#     print(\"Herat is in the list\")"
   ]
  },
  {
   "cell_type": "code",
   "execution_count": null,
   "metadata": {},
   "outputs": [],
   "source": [
    "#happiness cities\n",
    "\n",
    "# for x in range(len(data)):\n",
    "for hwlist in hplist:\n",
    "        print(hwlist)\n",
    "\n",
    "        \n",
    "    \n",
    "#         #print(cities)\n",
    "#     if data['cities'][x]['country_name'] == \"Bahamas\":\n",
    "            \n",
    "#             print(data['cities'][x]['city_name'])\n",
    "#     else:\n",
    "#         print(x)     "
   ]
  },
  {
   "cell_type": "code",
   "execution_count": null,
   "metadata": {},
   "outputs": [],
   "source": [
    "\n",
    "#Cost of living Cities\n",
    "\n",
    "\n",
    "#compare the list of HWcites to cost of living cities\n",
    "#if CL city is inside of HWcities append to matching cities\n",
    "#then do length of matching cities list\n",
    "#cities that are in both happiness list and api cities \n",
    "\n",
    "matching_cities = []\n",
    "\n",
    "\n",
    "\n",
    "for x in range(len(data['cities'])):\n",
    "    \n",
    "  if data['cities'][x]['country_name'] == \"United States\":\n",
    "            \n",
    "    current_city = (data['cities'][x]['city_name'] + \", \" + data['cities'][x]['state_code'])\n",
    "\n",
    "    if current_city in hplist:\n",
    "      \n",
    "      matching_cities.append(current_city)\n",
    "      \n",
    "\n",
    "print(len(matching_cities))\n",
    "\n",
    "\n",
    "#print(response.text)\n",
    "# if (response_data['cities'][0]['city_name']) == \"Herat\":\n",
    "#     print(\"Herat is in the list\")"
   ]
  },
  {
   "cell_type": "code",
   "execution_count": null,
   "metadata": {},
   "outputs": [],
   "source": [
    "#compare matching cities with HWcities and make a list of missing cities\n",
    "\n",
    "missing_cities = []\n",
    "\n",
    "\n",
    "for x in hplist:\n",
    "    if x not in matching_cities:\n",
    "    #if matching_cities.count(x) == 0:\n",
    "        missing_cities.append(x)\n",
    "\n",
    "\n",
    "# if x not in hplist:\n",
    "        \n",
    "#         print(x)\n",
    "#         #missing_cities.append(x)\n",
    "\n",
    "#print(missing_cities)\n",
    "#for x in range(len(matching_cities)):\n",
    "\n",
    "#     #print(matching_cities[x])\n",
    "    \n",
    "#     if matching_cities[x] in list:\n",
    "        \n",
    "#         fuck_this_list.append(matching_cities[x])\n",
    "\n",
    "    \n",
    "#     else:\n",
    "\n",
    "#          missing_cities.append(matching_cities[x])\n",
    "\n",
    "\n",
    "print(missing_cities)\n",
    "\n",
    "\n",
    "\n",
    "\n"
   ]
  },
  {
   "cell_type": "code",
   "execution_count": null,
   "metadata": {},
   "outputs": [],
   "source": [
    "# import requests\n",
    "# import pandas as pd\n",
    "    \n",
    "# url = \"https://zylalabs.com/api/226/cities+cost+of+living+and+average+prices+api/233/get+prices?city_name=athens&country_name=greece\"\n",
    "    \n",
    "# headers = {\n",
    "#     'Authorization': 'Bearer 326|qySQCd3uZ7I39Bh8v1680nDrxjlB0liuk1zvdCXv'\n",
    "# }\n",
    "    \n",
    "# response = requests.request(\"GET\", url, headers=headers)\n",
    "    \n",
    "# print(response.text)\n",
    "\n",
    "# df = pd.DataFrame(response.json(), index=[54])"
   ]
  },
  {
   "cell_type": "code",
   "execution_count": null,
   "metadata": {},
   "outputs": [],
   "source": [
    "#remove the missing cities from the "
   ]
  },
  {
   "cell_type": "code",
   "execution_count": null,
   "metadata": {},
   "outputs": [],
   "source": [
    "\n",
    "\n",
    "import requests\n",
    "    \n",
    "url = \"https://zylalabs.com/api/226/cities+cost+of+living+and+average+prices+api/233/get+prices?city_name=albany&country_name=united+states\"\n",
    "    \n",
    "headers = {\n",
    "    'Authorization': 'Bearer 326|qySQCd3uZ7I39Bh8v1680nDrxjlB0liuk1zvdCXv'\n",
    "}\n",
    "    \n",
    "response = requests.request(\"GET\", url, headers=headers)\n",
    "    \n",
    "print(response.text)\n",
    "\n"
   ]
  },
  {
   "cell_type": "code",
   "execution_count": null,
   "metadata": {},
   "outputs": [],
   "source": [
    "print(len(response.json()))"
   ]
  }
 ],
 "metadata": {
  "kernelspec": {
   "display_name": "Python 3.10.5 64-bit",
   "language": "python",
   "name": "python3"
  },
  "language_info": {
   "codemirror_mode": {
    "name": "ipython",
    "version": 3
   },
   "file_extension": ".py",
   "mimetype": "text/x-python",
   "name": "python",
   "nbconvert_exporter": "python",
   "pygments_lexer": "ipython3",
   "version": "3.10.5"
  },
  "orig_nbformat": 4,
  "vscode": {
   "interpreter": {
    "hash": "072753f373865d6b158186b1f0f724b867295c26eb910829b189e1358af2d495"
   }
  }
 },
 "nbformat": 4,
 "nbformat_minor": 2
}
