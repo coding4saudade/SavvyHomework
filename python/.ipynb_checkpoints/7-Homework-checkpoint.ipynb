{
 "cells": [
  {
   "cell_type": "code",
   "execution_count": null,
   "metadata": {},
   "outputs": [],
   "source": [
    "What does one need to do to use a module?\n",
    "You need to import the module, then make a call to it\n",
    "\n",
    "\n",
    "\n",
    "Name a Module (not the DateTime Nodule) we looked at and write a line or 2 of code as an example using this module.\n",
    "\n",
    "Pandas!\n",
    "\n",
    "import pandas as pd\n",
    "\n",
    "df = pd.read_vsv(\"dataset.csv\")\n",
    "\n",
    "print(df)\n",
    "\n",
    "What is a benefit of using Exception handling?\n",
    "\n",
    "it helps clarify what went wrong with program, especially if it is not a syntax error\n",
    "\n",
    "\n",
    "\n",
    "\n",
    "1. NumPy arrays are like what Python data type?\n",
    "\n",
    "Similar to lists\n",
    "\n",
    "\n",
    "1. What is one of the main benefits of using NumPy arrays.\n",
    "\n",
    "They are faster and more efficient to use\n",
    "\n",
    "\n",
    "1. What is one of the main requirements about the 'dtype' of NumPy arrays?\n",
    "all elements are the same\n",
    "\n",
    "1. Of the 10 uses of NumPy, name 2.\n",
    "\n",
    "Create arrays\n",
    "\n",
    "reshape arrays\n",
    "\n",
    "\n",
    "1. Name one of the other libraries we'll use with NumPy?\n",
    "Pandas\n",
    "\n",
    "\n",
    "\n",
    "1. What is the shape of NumPy arrays?\n",
    "The shape of an array is the number of elements in each dimension.\n",
    "\n",
    "\n",
    "1. What is a Tensor?\n",
    "A tensor can be described as a n-dimensional numerical array\n",
    "\n",
    "1. Name a reason why it's better using  NumPy for Data Analysis than using a Python List?\n",
    "\n",
    "\n",
    "for better memory consumption\n",
    "\n",
    "1. When creating an \"empty\" array, where do the elements come from?\n",
    "An empty array is an array that has no value or is null\n",
    "\n",
    "1. What does Pandas stand for?\n",
    "Python Data Analysis Library \n",
    "\n",
    "1. What are the 2 collections used in Pandas?\n",
    "namedtuple\n",
    "Counter\n",
    "defaultdict\n",
    "OrderedDict\n",
    "ChainMap\n",
    "UserList\n",
    "UserString\n",
    "UserDict\n",
    "\n",
    "1. Name 4 things Pandas can do for us.\n",
    "\n",
    " Data Cleansing \n",
    " Data normalization \n",
    " Data visualization \n",
    " Data inspection\n",
    "\n",
    "\n",
    "1. To permanently sort a DataFrame, which keyword should one use with the `df.sort()` method?\n",
    "\n",
    "\n",
    "1. What is a CSV\n",
    "\n",
    "a comma seperated text file\n",
    "\n",
    "1. When cleaning data what values do we not like in our data?\n",
    "nulls"
   ]
  },
  {
   "cell_type": "code",
   "execution_count": 14,
   "metadata": {},
   "outputs": [
    {
     "name": "stdout",
     "output_type": "stream",
     "text": [
      "\n",
      " sortedArray reshaped ...\n",
      " [[[16 25  2]\n",
      "  [11  4 13]]\n",
      "\n",
      " [[ 7 81  5]\n",
      "  [ 6 11 12]]]\n",
      "New colors\n",
      "[16 25  2]\n",
      "[11  4 13]\n",
      "[ 7 81  5]\n",
      "[ 6 11 12]\n"
     ]
    }
   ],
   "source": [
    "import numpy as np\n",
    "\n",
    "arrayA = ([[25, 16]])\n",
    "arrayB = ([[11, 2], [13, 4]])\n",
    "arrayC = ([[7, 81], [5, 6], [11, 12]])\n",
    "\n",
    "newArray = np.concatenate((arrayA, arrayB, arrayC), axis=0)\n",
    "#print(\"Print arrCombo ...\", newArray)\n",
    "\n",
    "\n",
    "sortedArray = np.sort(newArray)\n",
    "\n",
    "#print (\"\\nnewArray sorted ...\\n\", newArray)\n",
    "\n",
    "reshapedArray = sortedArray.reshape(2, 2, 3)\n",
    "\n",
    "print (\"\\n sortedArray reshaped ...\\n\", reshapedArray)\n",
    "\n",
    "# print(\"new array\")\n",
    "# print(newArray)\n",
    "\n",
    "(color1, color2) = reshapedArray\n",
    "\n",
    "(blue, red) = color1\n",
    "(green, purple) = color2\n",
    "\n",
    "print(\"New colors\")\n",
    "\n",
    "print(blue)\n",
    "print(red)\n",
    "print(green)\n",
    "print(purple)\n"
   ]
  },
  {
   "cell_type": "code",
   "execution_count": 40,
   "metadata": {},
   "outputs": [
    {
     "name": "stdout",
     "output_type": "stream",
     "text": [
      "[10 11 12 13 14 15 16 17 20 21 22 23 24 25 26 27  0  1  2  3  4  5  6  7]\n",
      "11\n",
      "[12 13 14 15 16 17 20 21 22 23 24 25 26 27  0  1  2  3  4  5  6  7]\n",
      "[13 14 15 16 17 20 21 22 23 24 25]\n",
      "[2 3 4 5 6 7]\n",
      "[ 0 27 26 25 24 23 22 21 20 17 16 15]\n",
      "[20 22 24 26  0  2  4  6]\n",
      "[10 15 22 27  4]\n"
     ]
    }
   ],
   "source": [
    "one = ([10, 11, 12, 13, 14, 15, 16, 17])\n",
    "two = ([20, 21, 22, 23, 24, 25, 26, 27])\n",
    "three = ([ 0, 1, 2, 3, 4, 5, 6, 7])\n",
    "\n",
    "comboArray = np.concatenate((one, two, three), axis=0)\n",
    "\n",
    "#test print of comboArray\n",
    "print(comboArray)\n",
    "# print sec1 - the 2nd element\n",
    "print(comboArray[1])\n",
    "\n",
    "# print sec2 - all elements from the 3rd element to the last\n",
    "print(comboArray[2:])\n",
    "\n",
    "\n",
    "# print sec3 - all elements from the 4th to the 14th elements\n",
    "print(comboArray[3:14])\n",
    "\n",
    "# print sec4 - the last 6 elements\n",
    "print(comboArray[-6:])\n",
    "\n",
    "# print sec5 - all element from #0 up to and including #15, using the negative number method, i.e. taking a section from the end.\n",
    "print(comboArray[16:4:-1])\n",
    "\n",
    "# print sec6 - from #20 every even element to the end\n",
    "print(comboArray[8::2])\n",
    "# print sec7 - from the last element moving forward, every 5th element.\n",
    "print(comboArray[::5])\n"
   ]
  },
  {
   "cell_type": "code",
   "execution_count": 11,
   "metadata": {},
   "outputs": [
    {
     "name": "stdout",
     "output_type": "stream",
     "text": [
      "broadcast add\n",
      "[[[ 17.    70.    10.8 ]\n",
      "  [ 27.    80.3   20.71]]\n",
      "\n",
      " [[ 37.    90.02  30.8 ]\n",
      "  [ 47.   101.    41.  ]]\n",
      "\n",
      " [[ 57.4   94.    50.7 ]\n",
      "  [ 32.    85.5   36.2 ]]]\n",
      "broadcast divide\n",
      "[[[0.         0.         0.00934579]\n",
      "  [0.58823529 0.14714286 0.93551402]]\n",
      "\n",
      " [[1.17647059 0.286      1.87850467]\n",
      "  [1.76470588 0.44285714 2.8317757 ]]\n",
      "\n",
      " [[2.37647059 0.34285714 3.73831776]\n",
      "  [0.88235294 0.22142857 2.38317757]]]\n",
      "broadcast multiply\n",
      "[[[0.00000e+00 0.00000e+00 1.07000e+00]\n",
      "  [1.70000e+02 7.21000e+02 1.07107e+02]]\n",
      "\n",
      " [[3.40000e+02 1.40140e+03 2.15070e+02]\n",
      "  [5.10000e+02 2.17000e+03 3.24210e+02]]\n",
      "\n",
      " [[6.86800e+02 1.68000e+03 4.28000e+02]\n",
      "  [2.55000e+02 1.08500e+03 2.72850e+02]]]\n",
      "arr1 elements divisible_by_2 ... [ 0.  0. 30. 24. 15.]\n"
     ]
    }
   ],
   "source": [
    "from numpy import array\n",
    "import numpy as np\n",
    "\n",
    "arr1 = np.array([[[ 0.0,  0.0,  0.10], [10.0, 10.30, 10.01]],\n",
    "        [[20.0, 20.02, 20.10], [30.0, 31.0, 30.30]],\n",
    "        [[40.40, 24.0, 40.0], [15.0, 15.5, 25.5]]])\n",
    "\n",
    "arr2 =  np.array([[17.0, 70.0, 10.7]])\n",
    "\n",
    "print(\"broadcast add\")\n",
    "print(arr1 + arr2)\n",
    "\n",
    "print(\"broadcast divide\")\n",
    "arrDivide = np.divide(arr1, arr2)\n",
    "print(arrDivide)\n",
    "\n",
    "print(\"broadcast multiply\")\n",
    "arrMultiply = np.multiply(arr1, arr2)\n",
    "print(arrMultiply)\n",
    "\n",
    "divisible_by_3 = arr1[arr1 % 3 == 0]\n",
    "print(\"arr1 elements divisible_by_2 ...\", divisible_by_3)\n"
   ]
  },
  {
   "cell_type": "code",
   "execution_count": null,
   "metadata": {},
   "outputs": [],
   "source": [
    "10. Using `Series`, create a `DataFrame` that looks like this:\n",
    "\n",
    "    | Ingredients | Quantity | Unit |\n",
    "    |----|----|----|\n",
    "    | Flour | 4 | cups |\n",
    "    | Milk | 1 | cup |\n",
    "    | Eggs | 2 | large |\n",
    "    | Spam | 1 | can |\n",
    "\n",
    "    Name: Dinner, dtype: object"
   ]
  },
  {
   "cell_type": "code",
   "execution_count": 17,
   "metadata": {},
   "outputs": [
    {
     "name": "stdout",
     "output_type": "stream",
     "text": [
      "  Ingredients  Quantity   Unit\n",
      "0       Flour         4   cups\n",
      "1        Milk         1   cups\n",
      "2        eggs         2  large\n",
      "3        Spam         1    can\n"
     ]
    }
   ],
   "source": [
    "import pandas as pd\n",
    "food = pd.DataFrame([[\"Flour\", 4, \"cups\"], [\"Milk\", 1 , \"cups\"],[\"eggs\", 2, \"large\"],[\"Spam\", 1, \"can\"]], columns = [\"Ingredients\", \"Quantity\", \"Unit\" ])\n",
    "print(food)                                                                                                           "
   ]
  },
  {
   "cell_type": "code",
   "execution_count": 25,
   "metadata": {},
   "outputs": [
    {
     "name": "stdout",
     "output_type": "stream",
     "text": [
      "      Name  Height Qualification  address  Age        Pets           sport  \\\n",
      "0      Jai     5.1           Msc    Delhi   21         Dog           Darts   \n",
      "1  janusha     6.2            MA     Doha   23       Bunny      Basketball   \n",
      "2   Gaurav     5.1           Msc  Chennai   24  Chinchilla  PaddleBoarding   \n",
      "3     Anuj     5.2           Msc   Dakhar   21      Parrot         Cricket   \n",
      "\n",
      "        Deserts  \n",
      "0     ice cream  \n",
      "1  Cashew Fudge  \n",
      "2       waffels  \n",
      "3  Carrot Halwa  \n"
     ]
    }
   ],
   "source": [
    "import pandas as pd\n",
    "\n",
    "studentData = pd.DataFrame( {'Name': ['Jai', 'janusha', 'Gaurav', 'Anuj'],\n",
    "        'Height': [5.1, 6.2, 5.1, 5.2],\n",
    "        'Qualification': ['Msc', 'MA', 'Msc', 'Msc'],\n",
    "        'address': ['Delhi', 'Doha', 'Chennai', 'Dakhar'],\n",
    "        'Age': [21, 23, 24, 21],\n",
    "        'Pets': ['Dog', 'Bunny', 'Chinchilla', 'Parrot'],\n",
    "        'sport': ['Darts', 'Basketball', 'PaddleBoarding', 'Cricket']\n",
    "    })\n",
    "\n",
    "studentData.insert(7, \"Deserts\", [\"ice cream\", \"Cashew Fudge\", \"waffels\", \"Carrot Halwa\"], True )\n",
    "\n",
    "studentData.sort_values(by = ['Name', 'address'])\n",
    "\n",
    "print(studentData)"
   ]
  },
  {
   "cell_type": "code",
   "execution_count": 37,
   "metadata": {},
   "outputs": [
    {
     "name": "stdout",
     "output_type": "stream",
     "text": [
      "  Unnamed: 0  Cows  Goats\n",
      "0     Year 1    12     22\n",
      "1     Year 2    20     19\n"
     ]
    }
   ],
   "source": [
    "df = pd.DataFrame({'Cows': [12, 20], 'Goats': [22, 19]}, index=['Year 1', 'Year 2'])\n",
    "\n",
    "df.to_csv('cows_and_goats.csv', index=True)\n",
    "\n",
    "df = pd.read_csv('cows_and_goats.csv')\n",
    "\n",
    "print(df)\n",
    "\n"
   ]
  },
  {
   "cell_type": "code",
   "execution_count": 40,
   "metadata": {},
   "outputs": [
    {
     "name": "stdout",
     "output_type": "stream",
     "text": [
      "   Unnamed: 0 Favorite Vegetable  Rating\n",
      "0           0           Broccoli       1\n",
      "1           1               Corn       2\n",
      "2           2             Carrot       3\n"
     ]
    }
   ],
   "source": [
    "\n",
    "\n",
    "\n",
    "df = pd.DataFrame([[\"Broccoli\", 1], [\"Corn\", 2], [\"Carrot\", 3]], columns=[\"Favorite Vegetable\", \"Rating\"] )\n",
    "\n",
    "df.to_csv('favVeggies.csv', index=False)\n",
    "\n",
    "df = pd.read_csv('favVeggies.csv')\n",
    "\n",
    "print(df)\n"
   ]
  },
  {
   "cell_type": "code",
   "execution_count": null,
   "metadata": {},
   "outputs": [],
   "source": []
  }
 ],
 "metadata": {
  "kernelspec": {
   "display_name": "Python 3 (ipykernel)",
   "language": "python",
   "name": "python3"
  },
  "language_info": {
   "codemirror_mode": {
    "name": "ipython",
    "version": 3
   },
   "file_extension": ".py",
   "mimetype": "text/x-python",
   "name": "python",
   "nbconvert_exporter": "python",
   "pygments_lexer": "ipython3",
   "version": "3.10.5"
  },
  "vscode": {
   "interpreter": {
    "hash": "072753f373865d6b158186b1f0f724b867295c26eb910829b189e1358af2d495"
   }
  }
 },
 "nbformat": 4,
 "nbformat_minor": 2
}
