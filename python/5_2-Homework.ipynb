{
 "cells": [
  {
   "cell_type": "markdown",
   "metadata": {},
   "source": [
    "2. Open a Markdown cell in your Jupyter Notebook and answer these questions please:\n",
    "    - Use a markdown numbered list to answer these questions.\n",
    "    - What is an algorithm?\n",
    "    - Why is Python considered to be a high-level language?\n",
    "    - Is Python a Natural or a Formal language?\n",
    "    - Variable names may not start with certain characters - name two.\n",
    "    - WHat is a Semantic error?\n",
    "    - What is the #1 rule of coding / debugging?\n",
    "    - list 5 Python reserved words.\n"
   ]
  },
  {
   "cell_type": "markdown",
   "metadata": {},
   "source": [
    "\n",
    "\n",
    "\n",
    "1. What is an algorithm?\n",
    "\n",
    "An algorithm is a procedure used for solving a problem\n",
    "\n",
    "2. Why is python considered to be a high level language?\n",
    "\n",
    " Python is known for its ease of readability. Python’s syntax is designed to be easy to read and understand resulting in fewer coding steps for developers than imposed by Java or C++\n",
    "\n",
    "3. Is Python a Natural of a Formal Language?\n",
    "\n",
    "Python is a formal language. It has strict rules and syntax.\n",
    "\n",
    "4.  Variable names may not start with certain characters - name two.\n",
    "\n",
    "Variables may not start with a number. Any symbol except an underscore\n",
    "\n",
    "5. WHat is a Semantic error?\n",
    " Semantic errors are problems with a program that runs without producing error messages but doesn't do the right thing\n",
    "\n",
    "6. What is the #1 rule of coding / debugging?\n",
    "\n",
    "Complexity is the enemy of efficiency\n",
    "\n",
    "7. list 5 Python reserved words:\n",
    "\n",
    "False, True, if, in, is\n",
    "\n",
    "8. add and name, a web link for any Python coding article, in your markdown cell\n",
    "\n",
    "PostgresSQL and Python\n",
    "\n",
    "https://www.postgresqltutorial.com/postgresql-python/\n"
   ]
  },
  {
   "cell_type": "markdown",
   "metadata": {},
   "source": [
    "3. Open a code cell in your Jupyter Notebook and write the following code:\n",
    "    - Write a multi-line comment with your name, favorite food, and dream job on 3 different lines.\n",
    "    - assign 5 different data types to 5 different variables. At least one datatype must be a string.\n",
    "    - print the length of your string.\n",
    "    - print the the index value of the 4th character in your string.\n",
    "    - create a new variable called savvy, and assign it the string with this phrase \"Learning Data Analytics and Python is Awesome!\"\n",
    "    - return a range of characters that slices the above string from the beginning of  \"ing\" up to before \"and\"\n",
    "    - Replace \"Awesome\" with \"great\" in the string\n",
    "    - Test and print the savvy string to see it contains \"Python\"\n",
    "    - Create and assign 3 more variables called name, age and length using the multi-variable  naming method.\n",
    "    - Format a new string called 'miniBio' using variables in curly brackets to complete this phrase... \n",
    "            \"Hi my name is (name), I am so (tall) and (so) old today.\n",
    "    - print 'miniBio'\n",
    "    - cast and print the age variable to a float."
   ]
  },
  {
   "cell_type": "code",
   "execution_count": 20,
   "metadata": {},
   "outputs": [
    {
     "name": "stdout",
     "output_type": "stream",
     "text": [
      "33\n",
      "o\n",
      "Learning Data Analytics and Python is Great!\n",
      "Hi my name is Amanzi , I am 1.8288 meters tall and  41 old today.\n",
      "41.0\n"
     ]
    }
   ],
   "source": [
    "# Name: Amanzi Umoya\n",
    "# Favorite food: Smoothies\n",
    "# Dream Job: owner of tech company that makes smart houses that create and use energy effectively like the earth ships but for all climates\n",
    "#   Here is an example:  https://www.earthshipglobal.com/we-build-earthships \n",
    "#\n",
    "\n",
    "\n",
    "\n",
    "a = \"Hello Savvy Coders Teaching Staff\"\n",
    "b = 43\n",
    "c = 4.3\n",
    "d = [43, \"Forty three\", 0]\n",
    "e = \"bacon\", \"mayo\", \"tomato\", \"gluten-free bread\", \"lettuce\"\n",
    "\n",
    "\n",
    "print(len(a))\n",
    "print(a[4])\n",
    "\n",
    "savvy = \"Learning Data Analytics and Python is Awesome!\"\n",
    "\n",
    "savvy[5:23]\n",
    "\n",
    "print(savvy.replace(\"Awesome\", \"Great\"))\n",
    "\n",
    "name, age, length = \"Amanzi\", 41, \"1.8288 meters\"\n",
    "\n",
    "\n",
    "miniBio = \"Hi my name is {} , I am {} tall and  {} old today.\"\n",
    "print(miniBio.format(name, length, age))\n",
    "\n",
    "age = int(41)\n",
    "print(float(age))"
   ]
  }
 ],
 "metadata": {
  "kernelspec": {
   "display_name": "Python 3.10.5 64-bit",
   "language": "python",
   "name": "python3"
  },
  "language_info": {
   "codemirror_mode": {
    "name": "ipython",
    "version": 3
   },
   "file_extension": ".py",
   "mimetype": "text/x-python",
   "name": "python",
   "nbconvert_exporter": "python",
   "pygments_lexer": "ipython3",
   "version": "3.10.5"
  },
  "orig_nbformat": 4,
  "vscode": {
   "interpreter": {
    "hash": "072753f373865d6b158186b1f0f724b867295c26eb910829b189e1358af2d495"
   }
  }
 },
 "nbformat": 4,
 "nbformat_minor": 2
}
