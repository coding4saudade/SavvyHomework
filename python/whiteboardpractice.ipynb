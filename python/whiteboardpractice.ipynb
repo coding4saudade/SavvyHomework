{
 "cells": [
  {
   "cell_type": "markdown",
   "metadata": {},
   "source": [
    "Gather requirements:\n",
    "\n",
    "what kind of input?\n",
    "Do upper and lower case count?\n",
    "What do you want us to do if we do not get a string?\n",
    "\n",
    "break down the problem:\n",
    "\n",
    "key points: \n",
    "\n",
    "priorities: make sure we handle case issues\n",
    "\n",
    "\n",
    "set string variable\n",
    "\n",
    "convert string to upper or lower case\n",
    "\n",
    "create count variable\n",
    "\n",
    "return the count\n",
    "\n",
    "put loop into a function\n",
    "\n",
    "\n",
    "\n",
    "Declare function name \n",
    "Declare variables for keeping track of count and for the input string\n",
    "Convert string to lower/uppercase\n",
    "Split string up to letters\n",
    "Create loop to compare current letter to a vowel \n",
    "Add 1 to count variable if true, continue if false\n",
    "finish string and return count variable\n",
    "\n"
   ]
  }
 ],
 "metadata": {
  "kernelspec": {
   "display_name": "Python 3.10.5 64-bit",
   "language": "python",
   "name": "python3"
  },
  "language_info": {
   "name": "python",
   "version": "3.10.5"
  },
  "orig_nbformat": 4,
  "vscode": {
   "interpreter": {
    "hash": "072753f373865d6b158186b1f0f724b867295c26eb910829b189e1358af2d495"
   }
  }
 },
 "nbformat": 4,
 "nbformat_minor": 2
}
